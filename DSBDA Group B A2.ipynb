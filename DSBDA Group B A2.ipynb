{
 "cells": [
  {
   "cell_type": "markdown",
   "id": "f646f609",
   "metadata": {},
   "source": [
    "# DSBDA Group B A2\n",
    "Perform the following operations using Python on the Air quality and Heart Diseases data sets\n",
    "a. Data cleaning\n",
    "b. Data integration\n",
    "c. Data transformation\n",
    "d. Error correcting\n",
    "e. Data model building"
   ]
  },
  {
   "cell_type": "code",
   "execution_count": 1,
   "id": "773453ff",
   "metadata": {},
   "outputs": [],
   "source": [
    "import pandas as pd\n",
    "pd.plotting.register_matplotlib_converters() #It registers pandas formaters and converters with matplotlib\n",
    "import matplotlib.pyplot as plt\n",
    "%matplotlib inline\n",
    "import numpy as np\n",
    "import seaborn as sns"
   ]
  },
  {
   "cell_type": "code",
   "execution_count": 2,
   "id": "43a5eef3",
   "metadata": {},
   "outputs": [],
   "source": [
    "df =  pd.read_csv('AirQualityodisha.csv')"
   ]
  },
  {
   "cell_type": "code",
   "execution_count": 3,
   "id": "22969676",
   "metadata": {},
   "outputs": [
    {
     "data": {
      "text/html": [
       "<div>\n",
       "<style scoped>\n",
       "    .dataframe tbody tr th:only-of-type {\n",
       "        vertical-align: middle;\n",
       "    }\n",
       "\n",
       "    .dataframe tbody tr th {\n",
       "        vertical-align: top;\n",
       "    }\n",
       "\n",
       "    .dataframe thead th {\n",
       "        text-align: right;\n",
       "    }\n",
       "</style>\n",
       "<table border=\"1\" class=\"dataframe\">\n",
       "  <thead>\n",
       "    <tr style=\"text-align: right;\">\n",
       "      <th></th>\n",
       "      <th>Stn Code</th>\n",
       "      <th>Sampling Date</th>\n",
       "      <th>State</th>\n",
       "      <th>City</th>\n",
       "      <th>Location of Monitoring Station</th>\n",
       "      <th>Agency</th>\n",
       "      <th>Type of Location</th>\n",
       "      <th>SO2</th>\n",
       "      <th>NO2</th>\n",
       "      <th>RSPM/PM10</th>\n",
       "      <th>PM</th>\n",
       "    </tr>\n",
       "  </thead>\n",
       "  <tbody>\n",
       "    <tr>\n",
       "      <th>2387</th>\n",
       "      <td>819</td>\n",
       "      <td>15-12-15</td>\n",
       "      <td>Odisha</td>\n",
       "      <td>Kalinga Nagar</td>\n",
       "      <td>Roof of RO OFFICE BUILDING</td>\n",
       "      <td>Odisha State Pollution Control Board</td>\n",
       "      <td>Industrial Area</td>\n",
       "      <td>2</td>\n",
       "      <td>10</td>\n",
       "      <td>92</td>\n",
       "      <td>35.0</td>\n",
       "    </tr>\n",
       "    <tr>\n",
       "      <th>2388</th>\n",
       "      <td>819</td>\n",
       "      <td>17-12-15</td>\n",
       "      <td>Odisha</td>\n",
       "      <td>Kalinga Nagar</td>\n",
       "      <td>Roof of RO OFFICE BUILDING</td>\n",
       "      <td>Odisha State Pollution Control Board</td>\n",
       "      <td>Industrial Area</td>\n",
       "      <td>2</td>\n",
       "      <td>10</td>\n",
       "      <td>99</td>\n",
       "      <td>40.0</td>\n",
       "    </tr>\n",
       "    <tr>\n",
       "      <th>2389</th>\n",
       "      <td>819</td>\n",
       "      <td>22-12-15</td>\n",
       "      <td>Odisha</td>\n",
       "      <td>Kalinga Nagar</td>\n",
       "      <td>Roof of RO OFFICE BUILDING</td>\n",
       "      <td>Odisha State Pollution Control Board</td>\n",
       "      <td>Industrial Area</td>\n",
       "      <td>2</td>\n",
       "      <td>10</td>\n",
       "      <td>90</td>\n",
       "      <td>38.0</td>\n",
       "    </tr>\n",
       "    <tr>\n",
       "      <th>2390</th>\n",
       "      <td>819</td>\n",
       "      <td>26-12-15</td>\n",
       "      <td>Odisha</td>\n",
       "      <td>Kalinga Nagar</td>\n",
       "      <td>Roof of RO OFFICE BUILDING</td>\n",
       "      <td>Odisha State Pollution Control Board</td>\n",
       "      <td>Industrial Area</td>\n",
       "      <td>2</td>\n",
       "      <td>10</td>\n",
       "      <td>97</td>\n",
       "      <td>39.0</td>\n",
       "    </tr>\n",
       "    <tr>\n",
       "      <th>2391</th>\n",
       "      <td>819</td>\n",
       "      <td>29-12-15</td>\n",
       "      <td>Odisha</td>\n",
       "      <td>Kalinga Nagar</td>\n",
       "      <td>Roof of RO OFFICE BUILDING</td>\n",
       "      <td>Odisha State Pollution Control Board</td>\n",
       "      <td>Industrial Area</td>\n",
       "      <td>2</td>\n",
       "      <td>10</td>\n",
       "      <td>98</td>\n",
       "      <td>39.0</td>\n",
       "    </tr>\n",
       "  </tbody>\n",
       "</table>\n",
       "</div>"
      ],
      "text/plain": [
       "      Stn Code Sampling Date   State           City  \\\n",
       "2387       819      15-12-15  Odisha  Kalinga Nagar   \n",
       "2388       819      17-12-15  Odisha  Kalinga Nagar   \n",
       "2389       819      22-12-15  Odisha  Kalinga Nagar   \n",
       "2390       819      26-12-15  Odisha  Kalinga Nagar   \n",
       "2391       819      29-12-15  Odisha  Kalinga Nagar   \n",
       "\n",
       "     Location of Monitoring Station                                Agency  \\\n",
       "2387     Roof of RO OFFICE BUILDING  Odisha State Pollution Control Board   \n",
       "2388     Roof of RO OFFICE BUILDING  Odisha State Pollution Control Board   \n",
       "2389     Roof of RO OFFICE BUILDING  Odisha State Pollution Control Board   \n",
       "2390     Roof of RO OFFICE BUILDING  Odisha State Pollution Control Board   \n",
       "2391     Roof of RO OFFICE BUILDING  Odisha State Pollution Control Board   \n",
       "\n",
       "     Type of Location  SO2  NO2  RSPM/PM10    PM  \n",
       "2387  Industrial Area    2   10         92  35.0  \n",
       "2388  Industrial Area    2   10         99  40.0  \n",
       "2389  Industrial Area    2   10         90  38.0  \n",
       "2390  Industrial Area    2   10         97  39.0  \n",
       "2391  Industrial Area    2   10         98  39.0  "
      ]
     },
     "execution_count": 3,
     "metadata": {},
     "output_type": "execute_result"
    }
   ],
   "source": [
    "df.rename(columns={'PM 2.5':'PM'}, inplace=True)\n",
    "df.tail()"
   ]
  },
  {
   "cell_type": "code",
   "execution_count": 4,
   "id": "0eba582a",
   "metadata": {
    "scrolled": true
   },
   "outputs": [
    {
     "data": {
      "text/plain": [
       "Stn Code                            0\n",
       "Sampling Date                       0\n",
       "State                               0\n",
       "City                                0\n",
       "Location of Monitoring Station      0\n",
       "Agency                              0\n",
       "Type of Location                    0\n",
       "SO2                                 0\n",
       "NO2                                 0\n",
       "RSPM/PM10                           0\n",
       "PM                                332\n",
       "dtype: int64"
      ]
     },
     "execution_count": 4,
     "metadata": {},
     "output_type": "execute_result"
    }
   ],
   "source": [
    "df.isnull().sum()"
   ]
  },
  {
   "cell_type": "code",
   "execution_count": 5,
   "id": "341abbb9",
   "metadata": {
    "scrolled": false
   },
   "outputs": [
    {
     "data": {
      "text/plain": [
       "Stn Code                          0\n",
       "Sampling Date                     0\n",
       "State                             0\n",
       "City                              0\n",
       "Location of Monitoring Station    0\n",
       "Agency                            0\n",
       "Type of Location                  0\n",
       "SO2                               0\n",
       "NO2                               0\n",
       "RSPM/PM10                         0\n",
       "PM                                0\n",
       "dtype: int64"
      ]
     },
     "execution_count": 5,
     "metadata": {},
     "output_type": "execute_result"
    }
   ],
   "source": [
    "df['PM'] = df['PM'].replace(np.nan, 0)\n",
    "df.isna().sum()"
   ]
  },
  {
   "cell_type": "code",
   "execution_count": 6,
   "id": "81448581",
   "metadata": {},
   "outputs": [
    {
     "data": {
      "text/plain": [
       "0"
      ]
     },
     "execution_count": 6,
     "metadata": {},
     "output_type": "execute_result"
    }
   ],
   "source": [
    "df.PM.first_valid_index()"
   ]
  },
  {
   "cell_type": "code",
   "execution_count": 7,
   "id": "c870a7a9",
   "metadata": {
    "scrolled": false
   },
   "outputs": [
    {
     "data": {
      "text/html": [
       "<div>\n",
       "<style scoped>\n",
       "    .dataframe tbody tr th:only-of-type {\n",
       "        vertical-align: middle;\n",
       "    }\n",
       "\n",
       "    .dataframe tbody tr th {\n",
       "        vertical-align: top;\n",
       "    }\n",
       "\n",
       "    .dataframe thead th {\n",
       "        text-align: right;\n",
       "    }\n",
       "</style>\n",
       "<table border=\"1\" class=\"dataframe\">\n",
       "  <thead>\n",
       "    <tr style=\"text-align: right;\">\n",
       "      <th></th>\n",
       "      <th>Stn Code</th>\n",
       "      <th>Sampling Date</th>\n",
       "      <th>State</th>\n",
       "      <th>City</th>\n",
       "      <th>Location of Monitoring Station</th>\n",
       "      <th>Agency</th>\n",
       "      <th>Type of Location</th>\n",
       "      <th>SO2</th>\n",
       "      <th>NO2</th>\n",
       "      <th>RSPM/PM10</th>\n",
       "      <th>PM</th>\n",
       "    </tr>\n",
       "  </thead>\n",
       "  <tbody>\n",
       "    <tr>\n",
       "      <th>0</th>\n",
       "      <td>68</td>\n",
       "      <td>02-01-15</td>\n",
       "      <td>Odisha</td>\n",
       "      <td>Talcher</td>\n",
       "      <td>T.T.P.S.Colony, Talcher</td>\n",
       "      <td>Odisha State Pollution Control Board</td>\n",
       "      <td>Industrial Area</td>\n",
       "      <td>11</td>\n",
       "      <td>24</td>\n",
       "      <td>143</td>\n",
       "      <td>102.0</td>\n",
       "    </tr>\n",
       "    <tr>\n",
       "      <th>1</th>\n",
       "      <td>68</td>\n",
       "      <td>06-01-15</td>\n",
       "      <td>Odisha</td>\n",
       "      <td>Talcher</td>\n",
       "      <td>T.T.P.S.Colony, Talcher</td>\n",
       "      <td>Odisha State Pollution Control Board</td>\n",
       "      <td>Industrial Area</td>\n",
       "      <td>10</td>\n",
       "      <td>23</td>\n",
       "      <td>133</td>\n",
       "      <td>96.0</td>\n",
       "    </tr>\n",
       "    <tr>\n",
       "      <th>2</th>\n",
       "      <td>68</td>\n",
       "      <td>09-01-15</td>\n",
       "      <td>Odisha</td>\n",
       "      <td>Talcher</td>\n",
       "      <td>T.T.P.S.Colony, Talcher</td>\n",
       "      <td>Odisha State Pollution Control Board</td>\n",
       "      <td>Industrial Area</td>\n",
       "      <td>8</td>\n",
       "      <td>25</td>\n",
       "      <td>125</td>\n",
       "      <td>116.0</td>\n",
       "    </tr>\n",
       "    <tr>\n",
       "      <th>3</th>\n",
       "      <td>68</td>\n",
       "      <td>13-01-15</td>\n",
       "      <td>Odisha</td>\n",
       "      <td>Talcher</td>\n",
       "      <td>T.T.P.S.Colony, Talcher</td>\n",
       "      <td>Odisha State Pollution Control Board</td>\n",
       "      <td>Industrial Area</td>\n",
       "      <td>10</td>\n",
       "      <td>25</td>\n",
       "      <td>137</td>\n",
       "      <td>107.0</td>\n",
       "    </tr>\n",
       "    <tr>\n",
       "      <th>4</th>\n",
       "      <td>68</td>\n",
       "      <td>16-01-15</td>\n",
       "      <td>Odisha</td>\n",
       "      <td>Talcher</td>\n",
       "      <td>T.T.P.S.Colony, Talcher</td>\n",
       "      <td>Odisha State Pollution Control Board</td>\n",
       "      <td>Industrial Area</td>\n",
       "      <td>9</td>\n",
       "      <td>26</td>\n",
       "      <td>186</td>\n",
       "      <td>118.0</td>\n",
       "    </tr>\n",
       "  </tbody>\n",
       "</table>\n",
       "</div>"
      ],
      "text/plain": [
       "   Stn Code Sampling Date   State     City Location of Monitoring Station  \\\n",
       "0        68      02-01-15  Odisha  Talcher        T.T.P.S.Colony, Talcher   \n",
       "1        68      06-01-15  Odisha  Talcher        T.T.P.S.Colony, Talcher   \n",
       "2        68      09-01-15  Odisha  Talcher        T.T.P.S.Colony, Talcher   \n",
       "3        68      13-01-15  Odisha  Talcher        T.T.P.S.Colony, Talcher   \n",
       "4        68      16-01-15  Odisha  Talcher        T.T.P.S.Colony, Talcher   \n",
       "\n",
       "                                 Agency Type of Location  SO2  NO2  RSPM/PM10  \\\n",
       "0  Odisha State Pollution Control Board  Industrial Area   11   24        143   \n",
       "1  Odisha State Pollution Control Board  Industrial Area   10   23        133   \n",
       "2  Odisha State Pollution Control Board  Industrial Area    8   25        125   \n",
       "3  Odisha State Pollution Control Board  Industrial Area   10   25        137   \n",
       "4  Odisha State Pollution Control Board  Industrial Area    9   26        186   \n",
       "\n",
       "      PM  \n",
       "0  102.0  \n",
       "1   96.0  \n",
       "2  116.0  \n",
       "3  107.0  \n",
       "4  118.0  "
      ]
     },
     "execution_count": 7,
     "metadata": {},
     "output_type": "execute_result"
    }
   ],
   "source": [
    "df.head()"
   ]
  },
  {
   "cell_type": "code",
   "execution_count": 8,
   "id": "8dbaffd9",
   "metadata": {},
   "outputs": [],
   "source": [
    "df.rename(columns={'Location of Monitoring Station':'Location'}, inplace=True )"
   ]
  },
  {
   "cell_type": "code",
   "execution_count": 9,
   "id": "308d7cfb",
   "metadata": {
    "scrolled": true
   },
   "outputs": [
    {
     "data": {
      "text/html": [
       "<div>\n",
       "<style scoped>\n",
       "    .dataframe tbody tr th:only-of-type {\n",
       "        vertical-align: middle;\n",
       "    }\n",
       "\n",
       "    .dataframe tbody tr th {\n",
       "        vertical-align: top;\n",
       "    }\n",
       "\n",
       "    .dataframe thead th {\n",
       "        text-align: right;\n",
       "    }\n",
       "</style>\n",
       "<table border=\"1\" class=\"dataframe\">\n",
       "  <thead>\n",
       "    <tr style=\"text-align: right;\">\n",
       "      <th></th>\n",
       "      <th>Stn Code</th>\n",
       "      <th>Sampling Date</th>\n",
       "      <th>State</th>\n",
       "      <th>City</th>\n",
       "      <th>Location</th>\n",
       "      <th>Agency</th>\n",
       "      <th>Type of Location</th>\n",
       "      <th>SO2</th>\n",
       "      <th>NO2</th>\n",
       "      <th>RSPM/PM10</th>\n",
       "      <th>PM</th>\n",
       "    </tr>\n",
       "  </thead>\n",
       "  <tbody>\n",
       "    <tr>\n",
       "      <th>0</th>\n",
       "      <td>68</td>\n",
       "      <td>02-01-15</td>\n",
       "      <td>Odisha</td>\n",
       "      <td>Talcher</td>\n",
       "      <td>T.T.P.S.Colony, Talcher</td>\n",
       "      <td>Odisha State Pollution Control Board</td>\n",
       "      <td>Industrial Area</td>\n",
       "      <td>11</td>\n",
       "      <td>24</td>\n",
       "      <td>143</td>\n",
       "      <td>102.0</td>\n",
       "    </tr>\n",
       "    <tr>\n",
       "      <th>1</th>\n",
       "      <td>68</td>\n",
       "      <td>06-01-15</td>\n",
       "      <td>Odisha</td>\n",
       "      <td>Talcher</td>\n",
       "      <td>T.T.P.S.Colony, Talcher</td>\n",
       "      <td>Odisha State Pollution Control Board</td>\n",
       "      <td>Industrial Area</td>\n",
       "      <td>10</td>\n",
       "      <td>23</td>\n",
       "      <td>133</td>\n",
       "      <td>96.0</td>\n",
       "    </tr>\n",
       "    <tr>\n",
       "      <th>2</th>\n",
       "      <td>68</td>\n",
       "      <td>09-01-15</td>\n",
       "      <td>Odisha</td>\n",
       "      <td>Talcher</td>\n",
       "      <td>T.T.P.S.Colony, Talcher</td>\n",
       "      <td>Odisha State Pollution Control Board</td>\n",
       "      <td>Industrial Area</td>\n",
       "      <td>8</td>\n",
       "      <td>25</td>\n",
       "      <td>125</td>\n",
       "      <td>116.0</td>\n",
       "    </tr>\n",
       "    <tr>\n",
       "      <th>3</th>\n",
       "      <td>68</td>\n",
       "      <td>13-01-15</td>\n",
       "      <td>Odisha</td>\n",
       "      <td>Talcher</td>\n",
       "      <td>T.T.P.S.Colony, Talcher</td>\n",
       "      <td>Odisha State Pollution Control Board</td>\n",
       "      <td>Industrial Area</td>\n",
       "      <td>10</td>\n",
       "      <td>25</td>\n",
       "      <td>137</td>\n",
       "      <td>107.0</td>\n",
       "    </tr>\n",
       "    <tr>\n",
       "      <th>4</th>\n",
       "      <td>68</td>\n",
       "      <td>16-01-15</td>\n",
       "      <td>Odisha</td>\n",
       "      <td>Talcher</td>\n",
       "      <td>T.T.P.S.Colony, Talcher</td>\n",
       "      <td>Odisha State Pollution Control Board</td>\n",
       "      <td>Industrial Area</td>\n",
       "      <td>9</td>\n",
       "      <td>26</td>\n",
       "      <td>186</td>\n",
       "      <td>118.0</td>\n",
       "    </tr>\n",
       "  </tbody>\n",
       "</table>\n",
       "</div>"
      ],
      "text/plain": [
       "   Stn Code Sampling Date   State     City                 Location  \\\n",
       "0        68      02-01-15  Odisha  Talcher  T.T.P.S.Colony, Talcher   \n",
       "1        68      06-01-15  Odisha  Talcher  T.T.P.S.Colony, Talcher   \n",
       "2        68      09-01-15  Odisha  Talcher  T.T.P.S.Colony, Talcher   \n",
       "3        68      13-01-15  Odisha  Talcher  T.T.P.S.Colony, Talcher   \n",
       "4        68      16-01-15  Odisha  Talcher  T.T.P.S.Colony, Talcher   \n",
       "\n",
       "                                 Agency Type of Location  SO2  NO2  RSPM/PM10  \\\n",
       "0  Odisha State Pollution Control Board  Industrial Area   11   24        143   \n",
       "1  Odisha State Pollution Control Board  Industrial Area   10   23        133   \n",
       "2  Odisha State Pollution Control Board  Industrial Area    8   25        125   \n",
       "3  Odisha State Pollution Control Board  Industrial Area   10   25        137   \n",
       "4  Odisha State Pollution Control Board  Industrial Area    9   26        186   \n",
       "\n",
       "      PM  \n",
       "0  102.0  \n",
       "1   96.0  \n",
       "2  116.0  \n",
       "3  107.0  \n",
       "4  118.0  "
      ]
     },
     "execution_count": 9,
     "metadata": {},
     "output_type": "execute_result"
    }
   ],
   "source": [
    "df.head()"
   ]
  },
  {
   "cell_type": "code",
   "execution_count": 10,
   "id": "f949dcb1",
   "metadata": {},
   "outputs": [],
   "source": [
    "from sklearn.linear_model import LinearRegression "
   ]
  },
  {
   "cell_type": "code",
   "execution_count": 11,
   "id": "a827c9c7",
   "metadata": {},
   "outputs": [],
   "source": [
    "X = df[['SO2']]\n",
    "Y = df['NO2']"
   ]
  },
  {
   "cell_type": "code",
   "execution_count": 12,
   "id": "759c423b",
   "metadata": {
    "scrolled": true
   },
   "outputs": [
    {
     "data": {
      "text/plain": [
       "<AxesSubplot:xlabel='SO2', ylabel='NO2'>"
      ]
     },
     "execution_count": 12,
     "metadata": {},
     "output_type": "execute_result"
    },
    {
     "data": {
      "image/png": "[encoded data removed]",
      "text/plain": [
       "<Figure size 432x288 with 1 Axes>"
      ]
     },
     "metadata": {
      "needs_background": "light"
     },
     "output_type": "display_data"
    }
   ],
   "source": [
    "df.plot(kind= 'scatter', x='SO2' , y='NO2')"
   ]
  },
  {
   "cell_type": "code",
   "execution_count": 13,
   "id": "42076651",
   "metadata": {},
   "outputs": [
    {
     "data": {
      "text/plain": [
       "<AxesSubplot:xlabel='SO2', ylabel='NO2'>"
      ]
     },
     "execution_count": 13,
     "metadata": {},
     "output_type": "execute_result"
    },
    {
     "data": {
      "image/png": "[encoded data removed]",
      "text/plain": [
       "<Figure size 432x288 with 1 Axes>"
      ]
     },
     "metadata": {
      "needs_background": "light"
     },
     "output_type": "display_data"
    }
   ],
   "source": [
    "sns.scatterplot( x=df['SO2'] , y=df['NO2'])"
   ]
  },
  {
   "cell_type": "code",
   "execution_count": 14,
   "id": "954d1d38",
   "metadata": {},
   "outputs": [],
   "source": [
    "lm = LinearRegression(fit_intercept=False)"
   ]
  },
  {
   "cell_type": "code",
   "execution_count": 15,
   "id": "8af9a525",
   "metadata": {},
   "outputs": [
    {
     "data": {
      "text/plain": [
       "LinearRegression(fit_intercept=False)"
      ]
     },
     "execution_count": 15,
     "metadata": {},
     "output_type": "execute_result"
    }
   ],
   "source": [
    "lm.fit(X,Y)"
   ]
  },
  {
   "cell_type": "code",
   "execution_count": 16,
   "id": "070968e6",
   "metadata": {},
   "outputs": [
    {
     "data": {
      "text/plain": [
       "array([2.1545])"
      ]
     },
     "execution_count": 16,
     "metadata": {},
     "output_type": "execute_result"
    }
   ],
   "source": [
    "lm.coef_"
   ]
  },
  {
   "cell_type": "code",
   "execution_count": 17,
   "id": "0fcb9829",
   "metadata": {},
   "outputs": [
    {
     "data": {
      "text/plain": [
       "array([17.23600004])"
      ]
     },
     "execution_count": 17,
     "metadata": {},
     "output_type": "execute_result"
    }
   ],
   "source": [
    "lm.predict([[8]])"
   ]
  },
  {
   "cell_type": "code",
   "execution_count": null,
   "id": "48d56717",
   "metadata": {},
   "outputs": [],
   "source": []
  }
 ],
 "metadata": {
  "kernelspec": {
   "display_name": "Python 3",
   "language": "python",
   "name": "python3"
  },
  "language_info": {
   "codemirror_mode": {
    "name": "ipython",
    "version": 3
   },
   "file_extension": ".py",
   "mimetype": "text/x-python",
   "name": "python",
   "nbconvert_exporter": "python",
   "pygments_lexer": "ipython3",
   "version": "3.8.8"
  }
 },
 "nbformat": 4,
 "nbformat_minor": 5
}
